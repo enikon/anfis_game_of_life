{
 "cells": [
  {
   "cell_type": "code",
   "execution_count": 1,
   "metadata": {
    "pycharm": {
     "name": "#%%\n"
    }
   },
   "outputs": [],
   "source": [
    "import stable_baselines3\n",
    "from stable_baselines3 import PPO\n",
    "import numpy as np\n",
    "import matplotlib.pyplot as plt"
   ]
  },
  {
   "cell_type": "code",
   "execution_count": 13,
   "metadata": {},
   "outputs": [],
   "source": [
    "import gym\n",
    "from simulation_view import SimulationView\n",
    "import numpy as np\n",
    "\n",
    "\n",
    "def get_simulation_view():\n",
    "    return SimulationView([8000, 2000], [0, 0])\n",
    "\n",
    "\n",
    "class Environment(gym.Env):\n",
    "    metadata = {'render.modes': ['human']}\n",
    "\n",
    "    def __init__(self):\n",
    "        super(Environment, self).__init__()\n",
    "        self.reward_range = (0, 1)\n",
    "        self.action_space = gym.spaces.Box(np.array([0]), np.array([1]), dtype=np.float32)\n",
    "        self.observation_space = gym.spaces.Box(low=0, high=1e5, shape=(2,))\n",
    "        self.simulation_view = get_simulation_view()\n",
    "        self.simulation_step = 0\n",
    "\n",
    "    def step(self, action):\n",
    "        old_obs = list(self.simulation_view.simulation.entityCount)\n",
    "        self.simulation_view.step([action[0] * 1e5, 0])\n",
    "        obs = list(self.simulation_view.simulation.entityCount)\n",
    "        # reward = 1e5 - np.abs(self.simulation_view.simulation.entityCount[0] - self.simulation_view.simulation.entityCount[1])\n",
    "        # reward = self.simulation_step\n",
    "        # reward = 1\n",
    "        reward = 1 - min(abs(1 - np.average(np.array(obs) / np.array(old_obs))), 1)\n",
    "        done = np.any(np.array(self.simulation_view.simulation.entityCount) < 100)\n",
    "        if self.simulation_step > 1000:\n",
    "            done = True\n",
    "        self.simulation_step += 1\n",
    "\n",
    "        return obs, reward, done, {}\n",
    "\n",
    "    def reset(self):\n",
    "        self.simulation_view = get_simulation_view()\n",
    "        self.simulation_step = 0\n",
    "        return list(self.simulation_view.simulation.entityCount)\n",
    "\n",
    "    def render(self, mode='human', close=False):\n",
    "        print(list(self.simulation_view.simulation.entityCount))"
   ]
  },
  {
   "cell_type": "code",
   "execution_count": 14,
   "metadata": {},
   "outputs": [],
   "source": [
    "def get_random_model():\n",
    "    env = Environment()\n",
    "    return PPO('MlpPolicy', env, verbose=0)\n",
    "\n",
    "\n",
    "def learn_model():\n",
    "    model = get_random_model()\n",
    "    model.learn(total_timesteps=2000000)\n",
    "    return model\n",
    "\n",
    "\n",
    "def simulate_model(model, verbose=True):\n",
    "    env = Environment()\n",
    "    obs = env.reset()\n",
    "    i = 0\n",
    "    done = False\n",
    "    while not done:\n",
    "        i += 1\n",
    "        action, _states = model.predict(obs)\n",
    "        obs, rewards, done, info = env.step(action)\n",
    "        if verbose:\n",
    "            print(\"[%d] obs = [%d, %d], food = %f\" % (i, obs[0], obs[1], action[0]))\n",
    "    return i\n",
    "    \n",
    "\n",
    "def test_model(model):\n",
    "    scores = []\n",
    "    for _ in range(1000):\n",
    "        score = simulate_model(model, verbose=False)\n",
    "        scores.append(score)\n",
    "    plt.hist(scores, bins=np.arange(0, max(scores) + 20, 20))\n",
    "    plt.show()\n",
    "    print(\"Average score: %f\" % np.average(scores))"
   ]
  },
  {
   "cell_type": "code",
   "execution_count": 4,
   "metadata": {},
   "outputs": [
    {
     "name": "stderr",
     "output_type": "stream",
     "text": [
      "/home/piotr/Projects/anfis_game_of_life/venv/lib/python3.7/site-packages/gym/logger.py:30: UserWarning: \u001b[33mWARN: Box bound precision lowered by casting to float32\u001b[0m\n",
      "  warnings.warn(colorize('%s: %s'%('WARN', msg % args), 'yellow'))\n"
     ]
    }
   ],
   "source": [
    "model = learn_model()"
   ]
  },
  {
   "cell_type": "code",
   "execution_count": 12,
   "metadata": {},
   "outputs": [
    {
     "data": {
      "image/png": "[encoded data removed]",
      "text/plain": [
       "<Figure size 432x288 with 1 Axes>"
      ]
     },
     "metadata": {
      "needs_background": "light"
     },
     "output_type": "display_data"
    },
    {
     "name": "stdout",
     "output_type": "stream",
     "text": [
      "Average score: 787.200000\n"
     ]
    }
   ],
   "source": [
    "test_model(model)"
   ]
  },
  {
   "cell_type": "code",
   "execution_count": 6,
   "metadata": {},
   "outputs": [
    {
     "data": {
      "image/png": "[encoded data removed]",
      "text/plain": [
       "<Figure size 432x288 with 1 Axes>"
      ]
     },
     "metadata": {
      "needs_background": "light"
     },
     "output_type": "display_data"
    },
    {
     "name": "stdout",
     "output_type": "stream",
     "text": [
      "Average score: 145.217000\n"
     ]
    }
   ],
   "source": [
    "test_model(get_random_model())"
   ]
  },
  {
   "cell_type": "code",
   "execution_count": 7,
   "metadata": {},
   "outputs": [],
   "source": [
    "model.save(\"model.zip\")"
   ]
  },
  {
   "cell_type": "code",
   "execution_count": 10,
   "metadata": {},
   "outputs": [
    {
     "data": {
      "image/png": "[encoded data removed]",
      "text/plain": [
       "<Figure size 432x288 with 1 Axes>"
      ]
     },
     "metadata": {
      "needs_background": "light"
     },
     "output_type": "display_data"
    },
    {
     "name": "stdout",
     "output_type": "stream",
     "text": [
      "Average score: 742.700000\n"
     ]
    }
   ],
   "source": [
    "loaded_model = PPO.load(\"model.zip\")\n",
    "test_model(model)"
   ]
  }
 ],
 "metadata": {
  "kernelspec": {
   "display_name": "destilation",
   "language": "python",
   "name": "destilation"
  },
  "language_info": {
   "codemirror_mode": {
    "name": "ipython",
    "version": 3
   },
   "file_extension": ".py",
   "mimetype": "text/x-python",
   "name": "python",
   "nbconvert_exporter": "python",
   "pygments_lexer": "ipython3",
   "version": "3.7.5"
  }
 },
 "nbformat": 4,
 "nbformat_minor": 4
}
